{
 "cells": [
  {
   "cell_type": "code",
   "execution_count": 8,
   "metadata": {},
   "outputs": [],
   "source": [
    "import os\n",
    "import math\n",
    "from random import randrange, shuffle, sample, choice\n",
    "import numpy as np\n",
    "from scipy.io import wavfile\n",
    "from scipy.signal import convolve\n",
    "from pathlib import Path\n",
    "from tqdm.notebook import tqdm\n",
    "from librosa import load, resample, get_samplerate"
   ]
  },
  {
   "cell_type": "code",
   "execution_count": 9,
   "metadata": {},
   "outputs": [],
   "source": [
    "# speech_dir = Path('./WAVs/speech')\n",
    "speech_dir = Path('/home/guillaume/Nextcloud/Thesis_Guillaume/Datasets/Dry Speech/Parsed TIMIT/parsed_output')\n",
    "noise_dir = Path('./WAVs/noise')\n",
    "RIR_dir = Path('/home/guillaume/Nextcloud/Thesis_Guillaume/Datasets/Recorded RIRs/Barcelona')\n",
    "\n",
    "SNRs = [-5, 0, 5, 10, 25]\n",
    "\n",
    "testing_frac = 0.1\n",
    "validation_frac = 0.1\n",
    "training_frac = 1 - testing_frac - validation_frac\n",
    "\n",
    "max_size = 1000\n",
    "\n",
    "output_dir = Path('./WAVs/dataset')"
   ]
  },
  {
   "cell_type": "code",
   "execution_count": 10,
   "metadata": {},
   "outputs": [],
   "source": [
    "def power(x):\n",
    "    return np.sum(np.square(x))\n",
    "\n",
    "def SNR(s, n):\n",
    "    return 10*math.log10(power(s)/power(n))"
   ]
  },
  {
   "cell_type": "code",
   "execution_count": 11,
   "metadata": {},
   "outputs": [],
   "source": [
    "def resample_convolve(speech_wav, RIR, SNRs):\n",
    "    speech_wav_upsampled = resample(speech_wav, 16000, 48000, res_type='kaiser_fast')\n",
    "    convolved = convolve(speech_wav_upsampled, RIR)\n",
    "    convolved = convolved[:3*len(speech_wav)]\n",
    "    convolved_downsampled = resample(convolved, 48000, 16000, res_type='kaiser_fast')\n",
    "    current_SNR = SNR(speech_wav, convolved_downsampled)\n",
    "    alpha = 1/math.sqrt(math.pow(10, (choice(SNRs) - current_SNR)/10))\n",
    "    return speech_wav + alpha * convolved_downsampled"
   ]
  },
  {
   "cell_type": "code",
   "execution_count": 15,
   "metadata": {},
   "outputs": [],
   "source": [
    "def generate_wavs(speech_dir, noise_dir, RIR_dir, speech_filenames, noise_filenames, SNRs, output_path, max_size):\n",
    "    clean_output_path = output_path.joinpath('clean')\n",
    "    noisy_output_path = output_path.joinpath('noisy')\n",
    "    if not Path.exists(clean_output_path):\n",
    "        os.makedirs(clean_output_path)\n",
    "    if not Path.exists(noisy_output_path):\n",
    "        os.makedirs(noisy_output_path)\n",
    "        \n",
    "    RIR_filenames = os.listdir(RIR_dir)\n",
    "    \n",
    "    for filename_speech in tqdm(speech_filenames):\n",
    "        path_speech = speech_dir.joinpath(filename_speech)\n",
    "        if get_samplerate(path_speech) == 16000:\n",
    "            speech_wav, _ = load(path_speech, sr=None, mono=True)\n",
    "        else:\n",
    "            speech_wav, _ = load(path_speech, sr=16000, mono=True, res_type='kaiser_fast')\n",
    "        \n",
    "        # make sure all WAVs are 64000 samples (4s) long\n",
    "        length_difference = 64000 - len(speech_wav)\n",
    "        if length_difference > 0:\n",
    "            start = randrange(0, length_difference)\n",
    "            speech_wav = np.pad(speech_wav, (start, length_difference - start))\n",
    "        if length_difference < 0:\n",
    "            start = randrange(0, -length_difference)\n",
    "            speech_wav = speech_wav[start:start+64000]\n",
    "            \n",
    "        assert len(speech_wav) == 64000, 'Speech waveform has ' + str(len(speech_wav)) + ' samples instead of 64000 samples!'\n",
    "        \n",
    "        RIR = choice(np.load(RIR_dir.joinpath(choice(RIR_filenames))).transpose())\n",
    "        speech_convolved_wav = resample_convolve(speech_wav, RIR, [-5, 0, 5, 10])\n",
    "        \n",
    "        speech_convolved_output_wav = speech_convolved_wav * 2**15\n",
    "        clean_speech_filename = clean_output_path.joinpath(filename_speech.rsplit( \".\", 1 )[0].replace('_', '') + '.wav')\n",
    "        wavfile.write(clean_speech_filename, 16000, speech_convolved_output_wav.astype(np.int16))\n",
    "        \n",
    "        if len(speech_filenames) * len(noise_filenames) * len(SNRs) > max_size:\n",
    "            reduce_factor = np.sqrt(max_size / (len(speech_filenames) * len(noise_filenames) * len(SNRs)))\n",
    "            noise_filenames_sampled = sample(list(noise_filenames), int(len(noise_filenames) * reduce_factor))\n",
    "            SNRs_sampled = sample(SNRs, int(len(SNRs) * reduce_factor))\n",
    "        else:\n",
    "            noise_filenames_sampled = noise_filenames\n",
    "            SNRs_sampled = SNRs\n",
    "\n",
    "        for filename_noise in noise_filenames_sampled:\n",
    "            path_noise = noise_dir.joinpath(filename_noise)\n",
    "            if get_samplerate(path_noise) == 16000:\n",
    "                noise_wav, _ = load(path_noise, sr=None, mono=True)\n",
    "            else:\n",
    "                noise_wav, _ = load(path_noise, sr=16000, mono=True, res_type='kaiser_fast')\n",
    "\n",
    "            current_SNR = SNR(speech_wav, noise_wav)\n",
    "\n",
    "            length_difference = len(speech_wav) - len(noise_wav)\n",
    "\n",
    "            for desired_SNR in SNRs_sampled:\n",
    "                alpha = 1/math.sqrt( math.pow(10, (desired_SNR - current_SNR)/10)) # alpha so the SNR matches the wanted SNR\n",
    "                if length_difference == 0:\n",
    "                    noisy_speech_wav = speech_wav + alpha * noise_wav\n",
    "                if length_difference > 0:\n",
    "                    start = randrange(0, length_difference)\n",
    "                    noisy_speech_wav = speech_wav + alpha * np.pad(noise_wav, (start, length_difference - start))\n",
    "                if length_difference < 0:\n",
    "                    start = randrange(0, -length_difference)\n",
    "                    noisy_speech_wav = speech_wav + alpha * noise_wav[start:start+len(speech_wav)]\n",
    "\n",
    "                noisy_speech_wav = noisy_speech_wav * 2**15\n",
    "                noisy_speech_wav = noisy_speech_wav.astype(np.int16)\n",
    "                noisy_speech_filename = noisy_output_path.joinpath(filename_speech.rsplit( \".\", 1 )[0].replace('_', '') + '_' + filename_noise.rsplit( \".\", 1 )[0].replace('_', '') + '_SNR' + str(desired_SNR) + 'dB' + '.wav')\n",
    "                wavfile.write(noisy_speech_filename, 16000, noisy_speech_wav)"
   ]
  },
  {
   "cell_type": "code",
   "execution_count": 13,
   "metadata": {},
   "outputs": [],
   "source": [
    "def split_generate_wavs(speech_dir, noise_dir, RIR_dir, SNRs, testing_frac, validation_frac, training_frac, max_size, output_dir):\n",
    "    assert testing_frac + validation_frac + training_frac == 1, 'Split fractions do not sum to 1!'\n",
    "    \n",
    "    speech_filenames = os.listdir(speech_dir)\n",
    "    shuffle(speech_filenames)\n",
    "    \n",
    "    noise_filenames = os.listdir(noise_dir)\n",
    "    shuffle(noise_filenames)\n",
    "    \n",
    "    speech_filenames = sample(speech_filenames, 200) # use 200 clean speech files to generate dataset\n",
    "    \n",
    "\n",
    "    speech_train, speech_val, speech_test = np.split(speech_filenames,\n",
    "                                                     [int(training_frac*len(speech_filenames)), int((training_frac + validation_frac)*len(speech_filenames))])\n",
    "\n",
    "\n",
    "    noise_seen, noise_unseen = np.split(noise_filenames,\n",
    "                                        [int(training_frac*len(noise_filenames))])\n",
    "    \n",
    "    training_output_path = output_dir.joinpath('training')\n",
    "    val_output_path = output_dir.joinpath('validation')\n",
    "    test_seen_noise_output_path = output_dir.joinpath('testing_seen_noise')\n",
    "    test_unseen_noise_output_path = output_dir.joinpath('testing_unseen_noise')\n",
    "    \n",
    "    # generate training set\n",
    "    generate_wavs(speech_dir, noise_dir, RIR_dir, speech_train, noise_seen, SNRs, training_output_path, int(max_size * training_frac))\n",
    "    \n",
    "    # generate validation set\n",
    "    generate_wavs(speech_dir, noise_dir, RIR_dir, speech_val, noise_seen, SNRs, val_output_path, int(max_size * validation_frac))\n",
    "    \n",
    "    # generate testing set on seen noise\n",
    "    generate_wavs(speech_dir, noise_dir, RIR_dir, speech_test, noise_seen, SNRs, test_seen_noise_output_path, int(max_size * testing_frac))\n",
    "    \n",
    "    # generate testing set on unseen noise\n",
    "    generate_wavs(speech_dir, noise_dir, RIR_dir, speech_test, noise_unseen, SNRs, test_unseen_noise_output_path, int(max_size * testing_frac))"
   ]
  },
  {
   "cell_type": "code",
   "execution_count": 14,
   "metadata": {},
   "outputs": [
    {
     "data": {
      "application/vnd.jupyter.widget-view+json": {
       "model_id": "27c1dd77eeb041dea25804f4934cc1a9",
       "version_major": 2,
       "version_minor": 0
      },
      "text/plain": [
       "HBox(children=(FloatProgress(value=0.0, max=160.0), HTML(value='')))"
      ]
     },
     "metadata": {},
     "output_type": "display_data"
    },
    {
     "name": "stdout",
     "output_type": "stream",
     "text": [
      "\n"
     ]
    },
    {
     "data": {
      "application/vnd.jupyter.widget-view+json": {
       "model_id": "421f0a02597243a39d93c01f511ad8f1",
       "version_major": 2,
       "version_minor": 0
      },
      "text/plain": [
       "HBox(children=(FloatProgress(value=0.0, max=20.0), HTML(value='')))"
      ]
     },
     "metadata": {},
     "output_type": "display_data"
    },
    {
     "name": "stdout",
     "output_type": "stream",
     "text": [
      "\n"
     ]
    },
    {
     "data": {
      "application/vnd.jupyter.widget-view+json": {
       "model_id": "0219ef30647b4a24a2c0be8e355b043b",
       "version_major": 2,
       "version_minor": 0
      },
      "text/plain": [
       "HBox(children=(FloatProgress(value=0.0, max=20.0), HTML(value='')))"
      ]
     },
     "metadata": {},
     "output_type": "display_data"
    },
    {
     "name": "stdout",
     "output_type": "stream",
     "text": [
      "\n"
     ]
    },
    {
     "data": {
      "application/vnd.jupyter.widget-view+json": {
       "model_id": "7ba611dad6ab457294b6dcfc7a811fc9",
       "version_major": 2,
       "version_minor": 0
      },
      "text/plain": [
       "HBox(children=(FloatProgress(value=0.0, max=20.0), HTML(value='')))"
      ]
     },
     "metadata": {},
     "output_type": "display_data"
    },
    {
     "name": "stdout",
     "output_type": "stream",
     "text": [
      "\n"
     ]
    }
   ],
   "source": [
    "split_generate_wavs(speech_dir, noise_dir, RIR_dir, SNRs, testing_frac, validation_frac, training_frac, max_size, output_dir)"
   ]
  },
  {
   "cell_type": "code",
   "execution_count": null,
   "metadata": {},
   "outputs": [],
   "source": []
  }
 ],
 "metadata": {
  "kernelspec": {
   "display_name": "Python 3",
   "language": "python",
   "name": "python3"
  },
  "language_info": {
   "codemirror_mode": {
    "name": "ipython",
    "version": 3
   },
   "file_extension": ".py",
   "mimetype": "text/x-python",
   "name": "python",
   "nbconvert_exporter": "python",
   "pygments_lexer": "ipython3",
   "version": "3.6.9"
  }
 },
 "nbformat": 4,
 "nbformat_minor": 2
}
