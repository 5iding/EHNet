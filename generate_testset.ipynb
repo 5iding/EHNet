{
 "cells": [
  {
   "cell_type": "code",
   "execution_count": 1,
   "metadata": {},
   "outputs": [],
   "source": [
    "import os\n",
    "import math\n",
    "from random import shuffle, sample, choice\n",
    "import numpy as np\n",
    "from scipy.signal import convolve, butter, sosfilt\n",
    "from pathlib import Path\n",
    "from tqdm.notebook import tqdm\n",
    "from librosa import load, resample, get_samplerate, get_duration\n",
    "import soundfile as sf"
   ]
  },
  {
   "cell_type": "code",
   "execution_count": 2,
   "metadata": {},
   "outputs": [],
   "source": [
    "speech_dir = Path('/home/guillaume/Github/MS-SNSD/clean_test')\n",
    "seen_noise_dir = Path('/home/guillaume/Github/MS-SNSD/noise_train')\n",
    "unseen_noise_dir = Path('/home/guillaume/Github/MS-SNSD/noise_test')\n",
    "RIR_dir = Path()\n",
    "\n",
    "SNRs = [-10, -5, 0, 5, 10, 25]\n",
    "\n",
    "max_size = 1500\n",
    "\n",
    "output_dir = Path('/home/guillaume/Github/EHNet/WAVs/MS-SNSD-test')"
   ]
  },
  {
   "cell_type": "code",
   "execution_count": 3,
   "metadata": {},
   "outputs": [],
   "source": [
    "def power(x):\n",
    "    return np.sum(np.square(x))\n",
    "\n",
    "def SNR(s, n):\n",
    "    return 10*math.log10(power(s)/power(n))"
   ]
  },
  {
   "cell_type": "code",
   "execution_count": 4,
   "metadata": {},
   "outputs": [],
   "source": [
    "def resample_convolve(speech_wav, RIR, SNRs):\n",
    "    speech_wav_upsampled = resample(speech_wav, 16000, 48000, res_type='kaiser_fast')\n",
    "    convolved = convolve(speech_wav_upsampled, RIR)\n",
    "    convolved = convolved[:3*len(speech_wav)]\n",
    "    convolved_downsampled = resample(convolved, 48000, 16000, res_type='kaiser_fast')\n",
    "    current_SNR = SNR(speech_wav, convolved_downsampled)\n",
    "    alpha = 1/math.sqrt(math.pow(10, (choice(SNRs) - current_SNR)/10))\n",
    "    return speech_wav + alpha * convolved_downsampled"
   ]
  },
  {
   "cell_type": "code",
   "execution_count": 5,
   "metadata": {},
   "outputs": [],
   "source": [
    "def snr_mixer(clean, noise, snr):\n",
    "    # Normalizing to -25 dB FS\n",
    "    rmsclean = (clean**2).mean()**0.5\n",
    "    scalarclean = 10 ** (-25 / 20) / rmsclean\n",
    "    clean = clean * scalarclean\n",
    "    rmsclean = (clean**2).mean()**0.5\n",
    "\n",
    "    rmsnoise = (noise**2).mean()**0.5\n",
    "    scalarnoise = 10 ** (-25 / 20) /rmsnoise\n",
    "    noise = noise * scalarnoise\n",
    "    rmsnoise = (noise**2).mean()**0.5\n",
    "    \n",
    "    # Set the noise level for a given SNR\n",
    "    noisescalar = np.sqrt(rmsclean / (10**(snr/10)) / rmsnoise)\n",
    "    noisenewlevel = noise * noisescalar\n",
    "    noisyspeech = clean + noisenewlevel\n",
    "    return noisyspeech"
   ]
  },
  {
   "cell_type": "code",
   "execution_count": 6,
   "metadata": {},
   "outputs": [],
   "source": [
    "def filter(waveform):\n",
    "    sos = butter(10, 100, 'hp', fs=16000, output='sos') # 100Hz high pass filter\n",
    "    return sosfilt(sos, waveform)"
   ]
  },
  {
   "cell_type": "code",
   "execution_count": 7,
   "metadata": {},
   "outputs": [],
   "source": [
    "def generate_wavs(speech_dir, noise_dir, RIR_dir, speech_filenames, noise_filenames, SNRs, output_path, max_size):\n",
    "    clean_output_path = output_path.joinpath('clean')\n",
    "    noisy_output_path = output_path.joinpath('noisy')\n",
    "    if not Path.exists(clean_output_path):\n",
    "        os.makedirs(clean_output_path)\n",
    "    if not Path.exists(noisy_output_path):\n",
    "        os.makedirs(noisy_output_path)\n",
    "        \n",
    "    RIR_filenames = os.listdir(RIR_dir)\n",
    "    \n",
    "    pbar = tqdm(total=max_size)\n",
    "    \n",
    "    num_samples = 0\n",
    "    filecounter = 0\n",
    "    while num_samples < max_size:\n",
    "        ##------- Getting speech -------##\n",
    "        idx_s = np.random.randint(0, np.size(speech_filenames))\n",
    "        path_speech = speech_dir.joinpath(speech_filenames[idx_s])\n",
    "        if get_samplerate(path_speech) == 16000:\n",
    "            speech_wav, _ = load(path_speech, sr=None, mono=True)\n",
    "        else:\n",
    "            speech_wav, _ = load(path_speech, sr=16000, mono=True, res_type='kaiser_fast')\n",
    "        \n",
    "        # make sure all WAVs are 128000 samples (8s) long\n",
    "        length_difference = 128000 - len(speech_wav)\n",
    "        while length_difference > 0:\n",
    "            idx_s = idx_s + 1\n",
    "            if idx_s >= np.size(speech_filenames)-1:\n",
    "                idx_s = np.random.randint(0, np.size(speech_filenames))\n",
    "                \n",
    "            path_speech = speech_dir.joinpath(speech_filenames[idx_s])\n",
    "            if get_samplerate(path_speech) == 16000:\n",
    "                new_speech_wav, _ = load(path_speech, sr=None, mono=True)\n",
    "            else:\n",
    "                new_speech_wav, _ = load(path_speech, sr=16000, mono=True, res_type='kaiser_fast')\n",
    "            \n",
    "            cleanconcat = np.append(speech_wav, np.zeros(int(16000*0.2))) # 0.2 seconds of silence between utterances\n",
    "            speech_wav = np.append(cleanconcat, new_speech_wav)\n",
    "            \n",
    "            length_difference = 128000 - len(speech_wav)\n",
    "        \n",
    "        if length_difference == 0:\n",
    "            pass\n",
    "        if length_difference < 0:\n",
    "            start = np.random.randint(0, -length_difference)\n",
    "            speech_wav = speech_wav[start:start+128000]\n",
    "            \n",
    "        assert len(speech_wav) == 128000, 'Speech waveform has ' + str(len(speech_wav)) + ' samples instead of 128000 samples!'\n",
    "        \n",
    "#         RIR = choice(np.load(RIR_dir.joinpath(choice(RIR_filenames))).transpose())\n",
    "#         speech_convolved_wav = resample_convolve(speech_wav, RIR, [10, 20, 30, 40])\n",
    "        speech_convolved_wav = speech_wav\n",
    "        \n",
    "#         # HPF the speech to 100Hz\n",
    "#         speech_convolved_wav = filter(speech_convolved_wav)\n",
    "        \n",
    "        # normalize speech part to -25dBFS\n",
    "        rms = (speech_convolved_wav ** 2).mean() ** 0.5\n",
    "        scalar = 10 ** (-25 / 20) / (rms)\n",
    "        speech_convolved_wav = speech_convolved_wav * scalar\n",
    "        \n",
    "\n",
    "        ##------- Adding noise -------##\n",
    "        idx_n = np.random.randint(0, np.size(noise_filenames))\n",
    "        path_noise = noise_dir.joinpath(noise_filenames[idx_n])\n",
    "        if get_samplerate(path_noise) == 16000:\n",
    "            noise_wav, _ = load(path_noise, sr=None, mono=True)\n",
    "        else:\n",
    "            noise_wav, _ = load(path_noise, sr=16000, mono=True, res_type='kaiser_fast')\n",
    "\n",
    "#             # HPF the noise to 100Hz\n",
    "#             noise_wav = filter(noise_wav)\n",
    "\n",
    "        # normalize noise part to -25dBFS\n",
    "        rms = (noise_wav ** 2).mean() ** 0.5\n",
    "        scalar = 10 ** (-25 / 20) / (rms)\n",
    "        noise_wav = noise_wav * scalar\n",
    "\n",
    "        length_difference = len(speech_wav) - len(noise_wav)\n",
    "        if length_difference == 0:\n",
    "            pass\n",
    "        if length_difference > 0:\n",
    "            print(\"Noise was shorter than 8s!\")\n",
    "            continue\n",
    "        if length_difference < 0:\n",
    "            start = np.random.randint(0, -length_difference)\n",
    "            noise_wav = noise_wav[start:start+len(speech_wav)]\n",
    "\n",
    "        desired_SNR = choice(SNRs)\n",
    "        noisy_speech_wav = snr_mixer(speech_convolved_wav, noise_wav, desired_SNR)\n",
    "\n",
    "        if np.max(np.abs(noisy_speech_wav)) > 1: # skip if we are clipping\n",
    "            continue\n",
    "\n",
    "        filecounter = filecounter + 1\n",
    "        \n",
    "        clean_speech_filename = clean_output_path.joinpath(str(filecounter) + '.wav')\n",
    "        sf.write(clean_speech_filename, speech_convolved_wav, 16000)\n",
    "        \n",
    "        noisy_speech_filename = noisy_output_path.joinpath(str(filecounter) + '+SNR' + str(desired_SNR) + 'dB' + '.wav')\n",
    "        sf.write(noisy_speech_filename, noisy_speech_wav, 16000)\n",
    "        \n",
    "        num_samples += 1\n",
    "        pbar.update(1)\n",
    "        \n",
    "    pbar.close()"
   ]
  },
  {
   "cell_type": "code",
   "execution_count": 8,
   "metadata": {},
   "outputs": [],
   "source": [
    "def split_generate_wavs(speech_dir, seen_noise_dir, unseen_noise_dir, RIR_dir, SNRs, max_size, output_dir):\n",
    "    speech_filenames = os.listdir(speech_dir)\n",
    "    speech_filenames = [filename for filename in speech_filenames if filename.endswith('.wav')]\n",
    "    shuffle(speech_filenames)\n",
    "    \n",
    "    seen_noise_filenames = os.listdir(seen_noise_dir)\n",
    "    seen_noise_filenames = [filename for filename in seen_noise_filenames if filename.endswith('.wav') and get_duration(filename=seen_noise_dir.joinpath(filename)) >= 8]\n",
    "    shuffle(seen_noise_filenames)\n",
    "    \n",
    "    unseen_noise_filenames = os.listdir(unseen_noise_dir)\n",
    "    unseen_noise_filenames = [filename for filename in unseen_noise_filenames if filename.endswith('.wav') and get_duration(filename=unseen_noise_dir.joinpath(filename)) >= 8]\n",
    "    shuffle(unseen_noise_filenames)\n",
    "    \n",
    "    print('Using', len(speech_filenames), 'speech files.')\n",
    "\n",
    "    test_seen_noise_output_path = output_dir.joinpath('testing_seen_noise')\n",
    "    test_unseen_noise_output_path = output_dir.joinpath('testing_unseen_noise')\n",
    "    \n",
    "    # generate testing set on seen noise\n",
    "    generate_wavs(speech_dir, seen_noise_dir, RIR_dir, speech_filenames, seen_noise_filenames, SNRs, test_seen_noise_output_path, int(max_size))\n",
    "    \n",
    "    # generate testing set on unseen noise\n",
    "    generate_wavs(speech_dir, unseen_noise_dir, RIR_dir, speech_filenames, unseen_noise_filenames, SNRs, test_unseen_noise_output_path, int(max_size))"
   ]
  },
  {
   "cell_type": "code",
   "execution_count": 9,
   "metadata": {},
   "outputs": [
    {
     "name": "stdout",
     "output_type": "stream",
     "text": [
      "Using 1100 speech files.\n"
     ]
    },
    {
     "data": {
      "application/vnd.jupyter.widget-view+json": {
       "model_id": "1551541c83c549fd8de3bc845e60f0d6",
       "version_major": 2,
       "version_minor": 0
      },
      "text/plain": [
       "HBox(children=(FloatProgress(value=0.0, max=1500.0), HTML(value='')))"
      ]
     },
     "metadata": {},
     "output_type": "display_data"
    },
    {
     "name": "stdout",
     "output_type": "stream",
     "text": [
      "\n"
     ]
    },
    {
     "data": {
      "application/vnd.jupyter.widget-view+json": {
       "model_id": "8f926dd197574cb4a4eaad0a3b042654",
       "version_major": 2,
       "version_minor": 0
      },
      "text/plain": [
       "HBox(children=(FloatProgress(value=0.0, max=1500.0), HTML(value='')))"
      ]
     },
     "metadata": {},
     "output_type": "display_data"
    },
    {
     "name": "stdout",
     "output_type": "stream",
     "text": [
      "\n"
     ]
    }
   ],
   "source": [
    "split_generate_wavs(speech_dir, seen_noise_dir, unseen_noise_dir, RIR_dir, SNRs, max_size, output_dir)"
   ]
  },
  {
   "cell_type": "code",
   "execution_count": null,
   "metadata": {},
   "outputs": [],
   "source": []
  }
 ],
 "metadata": {
  "kernelspec": {
   "display_name": "Python 3.6.9 64-bit ('EHNet': venv)",
   "language": "python",
   "name": "python36964bitehnetvenve71b6270332e412fae011bf3b750c9f2"
  },
  "language_info": {
   "codemirror_mode": {
    "name": "ipython",
    "version": 3
   },
   "file_extension": ".py",
   "mimetype": "text/x-python",
   "name": "python",
   "nbconvert_exporter": "python",
   "pygments_lexer": "ipython3",
   "version": "3.6.9"
  }
 },
 "nbformat": 4,
 "nbformat_minor": 4
}
