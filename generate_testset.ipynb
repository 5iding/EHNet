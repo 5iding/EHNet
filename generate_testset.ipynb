{
 "cells": [
  {
   "cell_type": "code",
   "execution_count": 17,
   "metadata": {},
   "outputs": [],
   "source": [
    "import os\n",
    "import math\n",
    "from random import shuffle, sample, choice\n",
    "import numpy as np\n",
    "from scipy.signal import convolve\n",
    "from scipy.io import loadmat\n",
    "from pathlib import Path\n",
    "from tqdm.notebook import tqdm\n",
    "from librosa import load, resample, get_samplerate, get_duration\n",
    "import soundfile as sf"
   ]
  },
  {
   "cell_type": "code",
   "execution_count": 18,
   "metadata": {},
   "outputs": [],
   "source": [
    "speech_dir = Path('/home/guillaume/GitHub/MS-SNSD/clean_test')\n",
    "seen_noise_dir = Path('/home/guillaume/GitHub/MS-SNSD/noise_train')\n",
    "unseen_noise_dir = Path('/home/guillaume/GitHub/MS-SNSD/noise_test')\n",
    "RIR_dir = Path('/home/guillaume/GitHub/RIRs')\n",
    "\n",
    "SNRs = [-10, -5, 0, 5, 10, 25]\n",
    "\n",
    "max_size = 1500\n",
    "\n",
    "output_dir = Path('/home/guillaume/GitHub/EHNet/WAVs/MS-SNSD-test')"
   ]
  },
  {
   "cell_type": "code",
   "execution_count": 19,
   "metadata": {},
   "outputs": [],
   "source": [
    "def power(x):\n",
    "    return np.sum(np.square(x))\n",
    "\n",
    "def SNR(s, n):\n",
    "    return 10*math.log10(power(s)/power(n))"
   ]
  },
  {
   "cell_type": "code",
   "execution_count": 20,
   "metadata": {},
   "outputs": [],
   "source": [
    "def resample_convolve(speech_wav, RIR_path, SNRs):\n",
    "    RIR = loadmat(RIR_path)\n",
    "    RIR = RIR['h_air'][0]\n",
    "    speech_wav_upsampled = resample(speech_wav, 16000, 48000, res_type='kaiser_fast')\n",
    "    convolved = convolve(speech_wav_upsampled, RIR)\n",
    "    convolved = convolved[:3*len(speech_wav)]\n",
    "    convolved_downsampled = resample(convolved, 48000, 16000, res_type='kaiser_fast')\n",
    "    current_SNR = SNR(speech_wav, convolved_downsampled)\n",
    "    alpha = 1/math.sqrt(math.pow(10, (choice(SNRs) - current_SNR)/10))\n",
    "    return speech_wav + alpha * convolved_downsampled"
   ]
  },
  {
   "cell_type": "code",
   "execution_count": 21,
   "metadata": {},
   "outputs": [],
   "source": [
    "def snr_mixer(clean, noise, snr):\n",
    "    # Normalizing to -25 dB FS\n",
    "    rmsclean = (clean**2).mean()**0.5\n",
    "    scalarclean = 10 ** (-25 / 20) / rmsclean\n",
    "    clean = clean * scalarclean\n",
    "    rmsclean = (clean**2).mean()**0.5\n",
    "\n",
    "    rmsnoise = (noise**2).mean()**0.5\n",
    "    scalarnoise = 10 ** (-25 / 20) /rmsnoise\n",
    "    noise = noise * scalarnoise\n",
    "    rmsnoise = (noise**2).mean()**0.5\n",
    "    \n",
    "    # Set the noise level for a given SNR\n",
    "    noisescalar = np.sqrt(rmsclean / (10**(snr/10)) / rmsnoise)\n",
    "    noisenewlevel = noise * noisescalar\n",
    "    noisyspeech = clean + noisenewlevel\n",
    "    return noisyspeech"
   ]
  },
  {
   "cell_type": "code",
   "execution_count": 22,
   "metadata": {},
   "outputs": [],
   "source": [
    "def generate_wavs(speech_dir, noise_dir, RIR_dir, speech_filenames, noise_filenames, SNRs, output_path, max_size):\n",
    "    clean_output_path = output_path.joinpath('clean')\n",
    "    noisy_output_path = output_path.joinpath('noisy')\n",
    "    if not Path.exists(clean_output_path):\n",
    "        os.makedirs(clean_output_path)\n",
    "    if not Path.exists(noisy_output_path):\n",
    "        os.makedirs(noisy_output_path)\n",
    "        \n",
    "    RIR_filenames = os.listdir(RIR_dir)\n",
    "    \n",
    "    pbar = tqdm(total=max_size)\n",
    "    \n",
    "    num_samples = 0\n",
    "    filecounter = 0\n",
    "    while num_samples < max_size:\n",
    "        ##------- Getting speech -------##\n",
    "        idx_s = np.random.randint(0, np.size(speech_filenames))\n",
    "        path_speech = speech_dir.joinpath(speech_filenames[idx_s])\n",
    "        if get_samplerate(path_speech) == 16000:\n",
    "            speech_wav, _ = load(path_speech, sr=None, mono=True)\n",
    "        else:\n",
    "            speech_wav, _ = load(path_speech, sr=16000, mono=True, res_type='kaiser_fast')\n",
    "        \n",
    "        # make sure all WAVs are 128000 samples (8s) long\n",
    "        length_difference = 128000 - len(speech_wav)\n",
    "        while length_difference > 0:\n",
    "            idx_s = idx_s + 1\n",
    "            if idx_s >= np.size(speech_filenames)-1:\n",
    "                idx_s = np.random.randint(0, np.size(speech_filenames))\n",
    "                \n",
    "            path_speech = speech_dir.joinpath(speech_filenames[idx_s])\n",
    "            while True:\n",
    "                try:\n",
    "                    if get_samplerate(path_speech) == 16000:\n",
    "                        new_speech_wav, _ = load(path_speech, sr=None, mono=True)\n",
    "                    else:\n",
    "                        new_speech_wav, _ = load(path_speech, sr=16000, mono=True, res_type='kaiser_fast')\n",
    "                except RuntimeError:\n",
    "                    continue\n",
    "                break\n",
    "            \n",
    "            cleanconcat = np.append(speech_wav, np.zeros(int(16000*0.2))) # 0.2 seconds of silence between utterances\n",
    "            speech_wav = np.append(cleanconcat, new_speech_wav)\n",
    "            \n",
    "            length_difference = 128000 - len(speech_wav)\n",
    "        \n",
    "        if length_difference == 0:\n",
    "            pass\n",
    "        if length_difference < 0:\n",
    "            start = np.random.randint(0, -length_difference)\n",
    "            speech_wav = speech_wav[start:start+128000]\n",
    "            \n",
    "        assert len(speech_wav) == 128000, 'Speech waveform has ' + str(len(speech_wav)) + ' samples instead of 128000 samples!'\n",
    "        \n",
    "        RIR_filenames = [filename for filename in RIR_filenames if filename.endswith('.mat')]\n",
    "        RIR_path = RIR_dir.joinpath(choice(RIR_filenames))\n",
    "        speech_convolved_wav = resample_convolve(speech_wav, RIR_path, [20, 30, 40])\n",
    "        \n",
    "        # normalize speech part to -25dBFS\n",
    "        rms = (speech_convolved_wav ** 2).mean() ** 0.5\n",
    "        scalar = 10 ** (-25 / 20) / (rms)\n",
    "        speech_convolved_wav = speech_convolved_wav * scalar\n",
    "        speech_wav = speech_wav * scalar\n",
    "        \n",
    "\n",
    "        ##------- Adding noise -------##\n",
    "        idx_n = np.random.randint(0, np.size(noise_filenames))\n",
    "        path_noise = noise_dir.joinpath(noise_filenames[idx_n])\n",
    "        while True:\n",
    "            try:\n",
    "                if get_samplerate(path_noise) == 16000:\n",
    "                    noise_wav, _ = load(path_noise, sr=None, mono=True)\n",
    "                else:\n",
    "                    noise_wav, _ = load(path_noise, sr=16000, mono=True, res_type='kaiser_fast')\n",
    "            except RuntimeError:\n",
    "                continue\n",
    "            break\n",
    "\n",
    "        # normalize noise part to -25dBFS\n",
    "        rms = (noise_wav ** 2).mean() ** 0.5\n",
    "        scalar = 10 ** (-25 / 20) / (rms)\n",
    "        noise_wav = noise_wav * scalar\n",
    "\n",
    "        length_difference = len(speech_wav) - len(noise_wav)\n",
    "        if length_difference == 0:\n",
    "            pass\n",
    "        if length_difference > 0:\n",
    "            print(\"Noise was shorter than 8s!\")\n",
    "            continue\n",
    "        if length_difference < 0:\n",
    "            start = np.random.randint(0, -length_difference)\n",
    "            noise_wav = noise_wav[start:start+len(speech_wav)]\n",
    "\n",
    "        desired_SNR = choice(SNRs)\n",
    "        noisy_speech_wav = snr_mixer(speech_convolved_wav, noise_wav, desired_SNR)\n",
    "\n",
    "        if np.max(np.abs(noisy_speech_wav)) > 1: # skip if we are clipping\n",
    "            continue\n",
    "\n",
    "        filecounter = filecounter + 1\n",
    "        \n",
    "        while True:\n",
    "            try:\n",
    "                clean_speech_filename = clean_output_path.joinpath(str(filecounter) + '.wav')\n",
    "                sf.write(clean_speech_filename, speech_wav, 16000)\n",
    "\n",
    "                noisy_speech_filename = noisy_output_path.joinpath(str(filecounter) + '+SNR' + str(desired_SNR) + 'dB' + '.wav')\n",
    "                sf.write(noisy_speech_filename, noisy_speech_wav, 16000)\n",
    "            except RuntimeError:\n",
    "                continue\n",
    "            break\n",
    "        \n",
    "        num_samples += 1\n",
    "        pbar.update(1)\n",
    "        \n",
    "    pbar.close()"
   ]
  },
  {
   "cell_type": "code",
   "execution_count": 23,
   "metadata": {},
   "outputs": [],
   "source": [
    "def split_generate_wavs(speech_dir, seen_noise_dir, unseen_noise_dir, RIR_dir, SNRs, max_size, output_dir):\n",
    "    speech_filenames = os.listdir(speech_dir)\n",
    "    speech_filenames = [filename for filename in speech_filenames if filename.endswith('.wav')]\n",
    "    shuffle(speech_filenames)\n",
    "    \n",
    "    seen_noise_filenames = os.listdir(seen_noise_dir)\n",
    "    seen_noise_filenames = [filename for filename in seen_noise_filenames if filename.endswith('.wav') and get_duration(filename=seen_noise_dir.joinpath(filename)) >= 8]\n",
    "    shuffle(seen_noise_filenames)\n",
    "    \n",
    "    unseen_noise_filenames = os.listdir(unseen_noise_dir)\n",
    "    unseen_noise_filenames = [filename for filename in unseen_noise_filenames if filename.endswith('.wav') and get_duration(filename=unseen_noise_dir.joinpath(filename)) >= 8]\n",
    "    shuffle(unseen_noise_filenames)\n",
    "    \n",
    "    print('Using', len(speech_filenames), 'speech files.')\n",
    "\n",
    "    test_seen_noise_output_path = output_dir.joinpath('testing_seen_noise')\n",
    "    test_unseen_noise_output_path = output_dir.joinpath('testing_unseen_noise')\n",
    "    \n",
    "    # generate testing set on seen noise\n",
    "    generate_wavs(speech_dir, seen_noise_dir, RIR_dir, speech_filenames, seen_noise_filenames, SNRs, test_seen_noise_output_path, int(max_size))\n",
    "    \n",
    "    # generate testing set on unseen noise\n",
    "    generate_wavs(speech_dir, unseen_noise_dir, RIR_dir, speech_filenames, unseen_noise_filenames, SNRs, test_unseen_noise_output_path, int(max_size))"
   ]
  },
  {
   "cell_type": "code",
   "execution_count": 24,
   "metadata": {},
   "outputs": [
    {
     "name": "stdout",
     "output_type": "stream",
     "text": [
      "Using 1100 speech files.\n"
     ]
    },
    {
     "data": {
      "application/vnd.jupyter.widget-view+json": {
       "model_id": "883cd8e759f14916b5dee31d1faf7d8c",
       "version_major": 2,
       "version_minor": 0
      },
      "text/plain": [
       "HBox(children=(FloatProgress(value=0.0, max=1500.0), HTML(value='')))"
      ]
     },
     "metadata": {},
     "output_type": "display_data"
    },
    {
     "ename": "KeyboardInterrupt",
     "evalue": "",
     "output_type": "error",
     "traceback": [
      "\u001b[0;31m---------------------------------------------------------------------------\u001b[0m",
      "\u001b[0;31mKeyboardInterrupt\u001b[0m                         Traceback (most recent call last)",
      "\u001b[0;32m<ipython-input-24-95de38698d2f>\u001b[0m in \u001b[0;36m<module>\u001b[0;34m\u001b[0m\n\u001b[0;32m----> 1\u001b[0;31m \u001b[0msplit_generate_wavs\u001b[0m\u001b[0;34m(\u001b[0m\u001b[0mspeech_dir\u001b[0m\u001b[0;34m,\u001b[0m \u001b[0mseen_noise_dir\u001b[0m\u001b[0;34m,\u001b[0m \u001b[0munseen_noise_dir\u001b[0m\u001b[0;34m,\u001b[0m \u001b[0mRIR_dir\u001b[0m\u001b[0;34m,\u001b[0m \u001b[0mSNRs\u001b[0m\u001b[0;34m,\u001b[0m \u001b[0mmax_size\u001b[0m\u001b[0;34m,\u001b[0m \u001b[0moutput_dir\u001b[0m\u001b[0;34m)\u001b[0m\u001b[0;34m\u001b[0m\u001b[0;34m\u001b[0m\u001b[0m\n\u001b[0m",
      "\u001b[0;32m<ipython-input-23-9d396df3f43e>\u001b[0m in \u001b[0;36msplit_generate_wavs\u001b[0;34m(speech_dir, seen_noise_dir, unseen_noise_dir, RIR_dir, SNRs, max_size, output_dir)\u001b[0m\n\u001b[1;32m     18\u001b[0m \u001b[0;34m\u001b[0m\u001b[0m\n\u001b[1;32m     19\u001b[0m     \u001b[0;31m# generate testing set on seen noise\u001b[0m\u001b[0;34m\u001b[0m\u001b[0;34m\u001b[0m\u001b[0;34m\u001b[0m\u001b[0m\n\u001b[0;32m---> 20\u001b[0;31m     \u001b[0mgenerate_wavs\u001b[0m\u001b[0;34m(\u001b[0m\u001b[0mspeech_dir\u001b[0m\u001b[0;34m,\u001b[0m \u001b[0mseen_noise_dir\u001b[0m\u001b[0;34m,\u001b[0m \u001b[0mRIR_dir\u001b[0m\u001b[0;34m,\u001b[0m \u001b[0mspeech_filenames\u001b[0m\u001b[0;34m,\u001b[0m \u001b[0mseen_noise_filenames\u001b[0m\u001b[0;34m,\u001b[0m \u001b[0mSNRs\u001b[0m\u001b[0;34m,\u001b[0m \u001b[0mtest_seen_noise_output_path\u001b[0m\u001b[0;34m,\u001b[0m \u001b[0mint\u001b[0m\u001b[0;34m(\u001b[0m\u001b[0mmax_size\u001b[0m\u001b[0;34m)\u001b[0m\u001b[0;34m)\u001b[0m\u001b[0;34m\u001b[0m\u001b[0;34m\u001b[0m\u001b[0m\n\u001b[0m\u001b[1;32m     21\u001b[0m \u001b[0;34m\u001b[0m\u001b[0m\n\u001b[1;32m     22\u001b[0m     \u001b[0;31m# generate testing set on unseen noise\u001b[0m\u001b[0;34m\u001b[0m\u001b[0;34m\u001b[0m\u001b[0;34m\u001b[0m\u001b[0m\n",
      "\u001b[0;32m<ipython-input-22-39506401d481>\u001b[0m in \u001b[0;36mgenerate_wavs\u001b[0;34m(speech_dir, noise_dir, RIR_dir, speech_filenames, noise_filenames, SNRs, output_path, max_size)\u001b[0m\n\u001b[1;32m     55\u001b[0m         \u001b[0mRIR_filenames\u001b[0m \u001b[0;34m=\u001b[0m \u001b[0;34m[\u001b[0m\u001b[0mfilename\u001b[0m \u001b[0;32mfor\u001b[0m \u001b[0mfilename\u001b[0m \u001b[0;32min\u001b[0m \u001b[0mRIR_filenames\u001b[0m \u001b[0;32mif\u001b[0m \u001b[0mfilename\u001b[0m\u001b[0;34m.\u001b[0m\u001b[0mendswith\u001b[0m\u001b[0;34m(\u001b[0m\u001b[0;34m'.mat'\u001b[0m\u001b[0;34m)\u001b[0m\u001b[0;34m]\u001b[0m\u001b[0;34m\u001b[0m\u001b[0;34m\u001b[0m\u001b[0m\n\u001b[1;32m     56\u001b[0m         \u001b[0mRIR_path\u001b[0m \u001b[0;34m=\u001b[0m \u001b[0mRIR_dir\u001b[0m\u001b[0;34m.\u001b[0m\u001b[0mjoinpath\u001b[0m\u001b[0;34m(\u001b[0m\u001b[0mchoice\u001b[0m\u001b[0;34m(\u001b[0m\u001b[0mRIR_filenames\u001b[0m\u001b[0;34m)\u001b[0m\u001b[0;34m)\u001b[0m\u001b[0;34m\u001b[0m\u001b[0;34m\u001b[0m\u001b[0m\n\u001b[0;32m---> 57\u001b[0;31m         \u001b[0mspeech_convolved_wav\u001b[0m \u001b[0;34m=\u001b[0m \u001b[0mresample_convolve\u001b[0m\u001b[0;34m(\u001b[0m\u001b[0mspeech_wav\u001b[0m\u001b[0;34m,\u001b[0m \u001b[0mRIR_path\u001b[0m\u001b[0;34m,\u001b[0m \u001b[0;34m[\u001b[0m\u001b[0;36m20\u001b[0m\u001b[0;34m,\u001b[0m \u001b[0;36m30\u001b[0m\u001b[0;34m,\u001b[0m \u001b[0;36m40\u001b[0m\u001b[0;34m]\u001b[0m\u001b[0;34m)\u001b[0m\u001b[0;34m\u001b[0m\u001b[0;34m\u001b[0m\u001b[0m\n\u001b[0m\u001b[1;32m     58\u001b[0m \u001b[0;34m\u001b[0m\u001b[0m\n\u001b[1;32m     59\u001b[0m         \u001b[0;31m# normalize speech part to -25dBFS\u001b[0m\u001b[0;34m\u001b[0m\u001b[0;34m\u001b[0m\u001b[0;34m\u001b[0m\u001b[0m\n",
      "\u001b[0;32m<ipython-input-20-bd11eb451352>\u001b[0m in \u001b[0;36mresample_convolve\u001b[0;34m(speech_wav, RIR_path, SNRs)\u001b[0m\n\u001b[1;32m      5\u001b[0m     \u001b[0mconvolved\u001b[0m \u001b[0;34m=\u001b[0m \u001b[0mconvolve\u001b[0m\u001b[0;34m(\u001b[0m\u001b[0mspeech_wav_upsampled\u001b[0m\u001b[0;34m,\u001b[0m \u001b[0mRIR\u001b[0m\u001b[0;34m)\u001b[0m\u001b[0;34m\u001b[0m\u001b[0;34m\u001b[0m\u001b[0m\n\u001b[1;32m      6\u001b[0m     \u001b[0mconvolved\u001b[0m \u001b[0;34m=\u001b[0m \u001b[0mconvolved\u001b[0m\u001b[0;34m[\u001b[0m\u001b[0;34m:\u001b[0m\u001b[0;36m3\u001b[0m\u001b[0;34m*\u001b[0m\u001b[0mlen\u001b[0m\u001b[0;34m(\u001b[0m\u001b[0mspeech_wav\u001b[0m\u001b[0;34m)\u001b[0m\u001b[0;34m]\u001b[0m\u001b[0;34m\u001b[0m\u001b[0;34m\u001b[0m\u001b[0m\n\u001b[0;32m----> 7\u001b[0;31m     \u001b[0mconvolved_downsampled\u001b[0m \u001b[0;34m=\u001b[0m \u001b[0mresample\u001b[0m\u001b[0;34m(\u001b[0m\u001b[0mconvolved\u001b[0m\u001b[0;34m,\u001b[0m \u001b[0;36m48000\u001b[0m\u001b[0;34m,\u001b[0m \u001b[0;36m16000\u001b[0m\u001b[0;34m,\u001b[0m \u001b[0mres_type\u001b[0m\u001b[0;34m=\u001b[0m\u001b[0;34m'kaiser_fast'\u001b[0m\u001b[0;34m)\u001b[0m\u001b[0;34m\u001b[0m\u001b[0;34m\u001b[0m\u001b[0m\n\u001b[0m\u001b[1;32m      8\u001b[0m     \u001b[0mcurrent_SNR\u001b[0m \u001b[0;34m=\u001b[0m \u001b[0mSNR\u001b[0m\u001b[0;34m(\u001b[0m\u001b[0mspeech_wav\u001b[0m\u001b[0;34m,\u001b[0m \u001b[0mconvolved_downsampled\u001b[0m\u001b[0;34m)\u001b[0m\u001b[0;34m\u001b[0m\u001b[0;34m\u001b[0m\u001b[0m\n\u001b[1;32m      9\u001b[0m     \u001b[0malpha\u001b[0m \u001b[0;34m=\u001b[0m \u001b[0;36m1\u001b[0m\u001b[0;34m/\u001b[0m\u001b[0mmath\u001b[0m\u001b[0;34m.\u001b[0m\u001b[0msqrt\u001b[0m\u001b[0;34m(\u001b[0m\u001b[0mmath\u001b[0m\u001b[0;34m.\u001b[0m\u001b[0mpow\u001b[0m\u001b[0;34m(\u001b[0m\u001b[0;36m10\u001b[0m\u001b[0;34m,\u001b[0m \u001b[0;34m(\u001b[0m\u001b[0mchoice\u001b[0m\u001b[0;34m(\u001b[0m\u001b[0mSNRs\u001b[0m\u001b[0;34m)\u001b[0m \u001b[0;34m-\u001b[0m \u001b[0mcurrent_SNR\u001b[0m\u001b[0;34m)\u001b[0m\u001b[0;34m/\u001b[0m\u001b[0;36m10\u001b[0m\u001b[0;34m)\u001b[0m\u001b[0;34m)\u001b[0m\u001b[0;34m\u001b[0m\u001b[0;34m\u001b[0m\u001b[0m\n",
      "\u001b[0;32m~/.virtualenvs/thesis/lib/python3.7/site-packages/librosa/core/audio.py\u001b[0m in \u001b[0;36mresample\u001b[0;34m(y, orig_sr, target_sr, res_type, fix, scale, **kwargs)\u001b[0m\n\u001b[1;32m    545\u001b[0m         \u001b[0my_hat\u001b[0m \u001b[0;34m=\u001b[0m \u001b[0mscipy\u001b[0m\u001b[0;34m.\u001b[0m\u001b[0msignal\u001b[0m\u001b[0;34m.\u001b[0m\u001b[0mresample_poly\u001b[0m\u001b[0;34m(\u001b[0m\u001b[0my\u001b[0m\u001b[0;34m,\u001b[0m \u001b[0mtarget_sr\u001b[0m \u001b[0;34m//\u001b[0m \u001b[0mgcd\u001b[0m\u001b[0;34m,\u001b[0m \u001b[0morig_sr\u001b[0m \u001b[0;34m//\u001b[0m \u001b[0mgcd\u001b[0m\u001b[0;34m,\u001b[0m \u001b[0maxis\u001b[0m\u001b[0;34m=\u001b[0m\u001b[0;34m-\u001b[0m\u001b[0;36m1\u001b[0m\u001b[0;34m)\u001b[0m\u001b[0;34m\u001b[0m\u001b[0;34m\u001b[0m\u001b[0m\n\u001b[1;32m    546\u001b[0m     \u001b[0;32melse\u001b[0m\u001b[0;34m:\u001b[0m\u001b[0;34m\u001b[0m\u001b[0;34m\u001b[0m\u001b[0m\n\u001b[0;32m--> 547\u001b[0;31m         \u001b[0my_hat\u001b[0m \u001b[0;34m=\u001b[0m \u001b[0mresampy\u001b[0m\u001b[0;34m.\u001b[0m\u001b[0mresample\u001b[0m\u001b[0;34m(\u001b[0m\u001b[0my\u001b[0m\u001b[0;34m,\u001b[0m \u001b[0morig_sr\u001b[0m\u001b[0;34m,\u001b[0m \u001b[0mtarget_sr\u001b[0m\u001b[0;34m,\u001b[0m \u001b[0mfilter\u001b[0m\u001b[0;34m=\u001b[0m\u001b[0mres_type\u001b[0m\u001b[0;34m,\u001b[0m \u001b[0maxis\u001b[0m\u001b[0;34m=\u001b[0m\u001b[0;34m-\u001b[0m\u001b[0;36m1\u001b[0m\u001b[0;34m)\u001b[0m\u001b[0;34m\u001b[0m\u001b[0;34m\u001b[0m\u001b[0m\n\u001b[0m\u001b[1;32m    548\u001b[0m \u001b[0;34m\u001b[0m\u001b[0m\n\u001b[1;32m    549\u001b[0m     \u001b[0;32mif\u001b[0m \u001b[0mfix\u001b[0m\u001b[0;34m:\u001b[0m\u001b[0;34m\u001b[0m\u001b[0;34m\u001b[0m\u001b[0m\n",
      "\u001b[0;32m~/.virtualenvs/thesis/lib/python3.7/site-packages/resampy/core.py\u001b[0m in \u001b[0;36mresample\u001b[0;34m(x, sr_orig, sr_new, axis, filter, **kwargs)\u001b[0m\n\u001b[1;32m    118\u001b[0m     \u001b[0mx_2d\u001b[0m \u001b[0;34m=\u001b[0m \u001b[0mx\u001b[0m\u001b[0;34m.\u001b[0m\u001b[0mswapaxes\u001b[0m\u001b[0;34m(\u001b[0m\u001b[0;36m0\u001b[0m\u001b[0;34m,\u001b[0m \u001b[0maxis\u001b[0m\u001b[0;34m)\u001b[0m\u001b[0;34m.\u001b[0m\u001b[0mreshape\u001b[0m\u001b[0;34m(\u001b[0m\u001b[0;34m(\u001b[0m\u001b[0mx\u001b[0m\u001b[0;34m.\u001b[0m\u001b[0mshape\u001b[0m\u001b[0;34m[\u001b[0m\u001b[0maxis\u001b[0m\u001b[0;34m]\u001b[0m\u001b[0;34m,\u001b[0m \u001b[0;34m-\u001b[0m\u001b[0;36m1\u001b[0m\u001b[0;34m)\u001b[0m\u001b[0;34m)\u001b[0m\u001b[0;34m\u001b[0m\u001b[0;34m\u001b[0m\u001b[0m\n\u001b[1;32m    119\u001b[0m     \u001b[0my_2d\u001b[0m \u001b[0;34m=\u001b[0m \u001b[0my\u001b[0m\u001b[0;34m.\u001b[0m\u001b[0mswapaxes\u001b[0m\u001b[0;34m(\u001b[0m\u001b[0;36m0\u001b[0m\u001b[0;34m,\u001b[0m \u001b[0maxis\u001b[0m\u001b[0;34m)\u001b[0m\u001b[0;34m.\u001b[0m\u001b[0mreshape\u001b[0m\u001b[0;34m(\u001b[0m\u001b[0;34m(\u001b[0m\u001b[0my\u001b[0m\u001b[0;34m.\u001b[0m\u001b[0mshape\u001b[0m\u001b[0;34m[\u001b[0m\u001b[0maxis\u001b[0m\u001b[0;34m]\u001b[0m\u001b[0;34m,\u001b[0m \u001b[0;34m-\u001b[0m\u001b[0;36m1\u001b[0m\u001b[0;34m)\u001b[0m\u001b[0;34m)\u001b[0m\u001b[0;34m\u001b[0m\u001b[0;34m\u001b[0m\u001b[0m\n\u001b[0;32m--> 120\u001b[0;31m     \u001b[0mresample_f\u001b[0m\u001b[0;34m(\u001b[0m\u001b[0mx_2d\u001b[0m\u001b[0;34m,\u001b[0m \u001b[0my_2d\u001b[0m\u001b[0;34m,\u001b[0m \u001b[0msample_ratio\u001b[0m\u001b[0;34m,\u001b[0m \u001b[0minterp_win\u001b[0m\u001b[0;34m,\u001b[0m \u001b[0minterp_delta\u001b[0m\u001b[0;34m,\u001b[0m \u001b[0mprecision\u001b[0m\u001b[0;34m)\u001b[0m\u001b[0;34m\u001b[0m\u001b[0;34m\u001b[0m\u001b[0m\n\u001b[0m\u001b[1;32m    121\u001b[0m \u001b[0;34m\u001b[0m\u001b[0m\n\u001b[1;32m    122\u001b[0m     \u001b[0;32mreturn\u001b[0m \u001b[0my\u001b[0m\u001b[0;34m\u001b[0m\u001b[0;34m\u001b[0m\u001b[0m\n",
      "\u001b[0;31mKeyboardInterrupt\u001b[0m: "
     ]
    }
   ],
   "source": [
    "split_generate_wavs(speech_dir, seen_noise_dir, unseen_noise_dir, RIR_dir, SNRs, max_size, output_dir)"
   ]
  },
  {
   "cell_type": "code",
   "execution_count": null,
   "metadata": {},
   "outputs": [],
   "source": []
  }
 ],
 "metadata": {
  "kernelspec": {
   "display_name": "Python 3",
   "language": "python",
   "name": "python3"
  },
  "language_info": {
   "codemirror_mode": {
    "name": "ipython",
    "version": 3
   },
   "file_extension": ".py",
   "mimetype": "text/x-python",
   "name": "python",
   "nbconvert_exporter": "python",
   "pygments_lexer": "ipython3",
   "version": "3.7.5"
  }
 },
 "nbformat": 4,
 "nbformat_minor": 4
}
